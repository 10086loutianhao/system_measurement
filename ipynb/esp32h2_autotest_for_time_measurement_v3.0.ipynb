{
 "cells": [
  {
   "cell_type": "code",
   "execution_count": null,
   "id": "d8ca9f30",
   "metadata": {},
   "outputs": [],
   "source": [
    "import os\n",
    "import sys\n",
    "\n",
    "current_dir = os.getcwd()\n",
    "module_path = os.path.abspath(os.path.join(current_dir, '..', 'module'))\n",
    "results_path = os.path.abspath(os.path.join(current_dir, '..', 'results'))\n",
    "sys.path.append(module_path)\n",
    "file_name = 'lth_test.xlsx'\n",
    "##########################  Target init  #############################\n",
    "\n",
    "from target import target_init\n",
    "from DSview_ctrl import pos_init\n",
    "import argparse\n",
    "\n",
    "ret_list = target_init()\n",
    "\n",
    "IDF_PATH = ret_list[0]\n",
    "EXAMPLE_PATH = ret_list[1]\n",
    "target_port = ret_list[2]\n",
    "\n",
    "input_pos = pos_init()\n",
    "\n",
    "parser = argparse.ArgumentParser(description='命令行中传入一个xlsx文件名')\n",
    "parser.add_argument('--file_name', type=str, required=True, help='传入的文件名')\n",
    "# parser.add_argument('--except_num', type=int, required=True, help='取第n位最大最小值')\n",
    "args = parser.parse_args((results_path + ' ' + file_name).split())"
   ]
  },
  {
   "cell_type": "code",
   "execution_count": null,
   "id": "44a742d0",
   "metadata": {},
   "outputs": [],
   "source": [
    "####### Traversing different DFS ,PD_flash and times configurations then build and download  ########\n",
    "from openpyxl import Workbook\n",
    "from main_func import main_func\n",
    "import pprint\n",
    "from draw_html import draw_html_for_results_plotly\n",
    "\n",
    "wb = Workbook()\n",
    "DFS_min_list = [8, 16, 32]\n",
    "DFS_max_list = [48, 64, 96]\n",
    "PD_flash_flag_list = ['PU_flash', 'PD_flash']\n",
    "RTC_source_list = ['internal_136k_Rc', 'internal_32k_Rc', 'external_32k_crystal']\n",
    "times_list = [1]\n",
    "optional_items_list = ['CPU register restore', 'CPU frequency restore',\\\n",
    "                      'Calc sleep_time_overhead_out', 'DFS frequency up',\\\n",
    "                      'Calc sleep_time_overhead_in',\\\n",
    "                      'from overhead_in to enter light_sleep','CPU register save',\\\n",
    "                      'sw sleep_time_overhead_out','sw sleep_time_overhead_in',\\\n",
    "                      'dev_sleep_time_overhead_out','dev_sleep_time_overhead_in']\n",
    "csv_sublist = optional_items_list[:7]\n",
    "serial_sublist = optional_items_list[7:9]\n",
    "dev_sublist = [optional_items_list[2], optional_items_list[-4], optional_items_list[-2],\\\n",
    "              optional_items_list[4], optional_items_list[-3], optional_items_list[-1]]\n",
    "\n",
    "####### main_func will set up the menu in wb according to list gived, and then #######\n",
    "####### first, change example menuconfig ##########\n",
    "####### secondly, change sleep time interval (if need), download program to chip, and let it enter download mode ########\n",
    "####### thirdly, control mouse to use DSview , Wait for trigger ########\n",
    "####### fourthly, mannually select serial to reset chip ########\n",
    "####### fifthly, process serial data and record it in wb, serial send data sequence should be equivalent to serial_sublist ########\n",
    "####### sixthly, start to export csv, sampling rate should be 1 M ########\n",
    "####### seventhly, Grab the part of the screen to make sure sucessfully export csv ########\n",
    "####### eighthly, process csv and record it in wb ########\n",
    "####### ninthly, calc dev and record it in wb ########\n",
    "####### tenthly, build dict_list for chart ########\n",
    "dict_list = []\n",
    "offset = [0, 0]\n",
    "csvname = '/home/loutianhao/Downloads/1.csv'\n",
    "main_func(DFS_min_list, DFS_max_list, RTC_source_list, times_list, PD_flash_flag_list, csvname, wb, IDF_PATH, EXAMPLE_PATH, \\\n",
    "                 csv_sublist, serial_sublist, dev_sublist, optional_items_list,  \\\n",
    "                 input_pos, target_port, offset, dict_list, baud = 115200)\n",
    "\n",
    "maximum_csv_sublist = ['maximum ' + s for s in csv_sublist]\n",
    "minimum_csv_sublist = ['minimum ' + s for s in csv_sublist]\n",
    "draw_html_for_results_plotly(dict_list, {'csv_maximum': maximum_csv_sublist, 'csv_minimum': minimum_csv_sublist}, \\\n",
    "                          DFS_min_list, DFS_max_list, RTC_source_list, times_list, PD_flash_flag_list, \"CSV_\")\n",
    "\n",
    "dev_sublist_for_draw = dev_sublist[2::3]\n",
    "maximum_dev_sublist = ['maximum ' + s for s in dev_sublist_for_draw]\n",
    "minimum_dev_sublist = ['minimum ' + s for s in dev_sublist_for_draw]\n",
    "draw_html_for_results_plotly(dict_list, {'dev_maximum': maximum_dev_sublist, 'dev_minimum': minimum_dev_sublist}, \\\n",
    "                          DFS_min_list, DFS_max_list, RTC_source_list, times_list, PD_flash_flag_list, \"DEV_\")\n",
    "\n",
    "wb.save(args.file_name)\n",
    "\n",
    "with open('../results/dict_list.txt', 'w', encoding='utf-8') as file:\n",
    "    pprint.pprint(dict_list, stream=file)\n",
    "\n",
    "print(\"process done\")\n"
   ]
  },
  {
   "cell_type": "code",
   "execution_count": null,
   "id": "38f7d4b8",
   "metadata": {},
   "outputs": [],
   "source": [
    "import ast\n",
    "\n",
    "# 从 'dict_list.txt' 文件中读取数据\n",
    "with open('dict_list.txt', 'r', encoding='utf-8') as file:\n",
    "    data_str = file.read()\n",
    "\n",
    "# 将字符串转换回 Python 对象（dict_list）\n",
    "dict_list = ast.literal_eval(data_str)\n",
    "\n",
    "# 现在可以使用 dict_list 变量进行后续操作\n",
    "print(dict_list)"
   ]
  }
 ],
 "metadata": {
  "kernelspec": {
   "display_name": "Python 3 (ipykernel)",
   "language": "python",
   "name": "python3"
  },
  "language_info": {
   "codemirror_mode": {
    "name": "ipython",
    "version": 3
   },
   "file_extension": ".py",
   "mimetype": "text/x-python",
   "name": "python",
   "nbconvert_exporter": "python",
   "pygments_lexer": "ipython3",
   "version": "3.8.10"
  },
  "varInspector": {
   "cols": {
    "lenName": 16,
    "lenType": 16,
    "lenVar": 40
   },
   "kernels_config": {
    "python": {
     "delete_cmd_postfix": "",
     "delete_cmd_prefix": "del ",
     "library": "var_list.py",
     "varRefreshCmd": "print(var_dic_list())"
    },
    "r": {
     "delete_cmd_postfix": ") ",
     "delete_cmd_prefix": "rm(",
     "library": "var_list.r",
     "varRefreshCmd": "cat(var_dic_list()) "
    }
   },
   "types_to_exclude": [
    "module",
    "function",
    "builtin_function_or_method",
    "instance",
    "_Feature"
   ],
   "window_display": false
  }
 },
 "nbformat": 4,
 "nbformat_minor": 5
}
